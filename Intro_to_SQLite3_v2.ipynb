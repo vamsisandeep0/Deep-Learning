{
  "cells": [
    {
      "cell_type": "markdown",
      "id": "invalid-couple",
      "metadata": {
        "id": "invalid-couple"
      },
      "source": [
        "# SQL Using Python"
      ]
    },
    {
      "cell_type": "markdown",
      "id": "c23f73a1",
      "metadata": {
        "id": "c23f73a1"
      },
      "source": [
        "### Sign in to Google Drive to upload database"
      ]
    },
    {
      "cell_type": "code",
      "execution_count": null,
      "id": "3rNjzfeTwVho",
      "metadata": {
        "colab": {
          "base_uri": "https://localhost:8080/"
        },
        "id": "3rNjzfeTwVho",
        "outputId": "3a980ebe-abc1-4612-c454-b34721a7abc7"
      },
      "outputs": [
        {
          "name": "stdout",
          "output_type": "stream",
          "text": [
            "Mounted at /content/drive\n"
          ]
        }
      ],
      "source": [
        "from google.colab import drive\n",
        "drive.mount('/content/drive')"
      ]
    },
    {
      "cell_type": "markdown",
      "id": "approximate-thing",
      "metadata": {
        "id": "approximate-thing"
      },
      "source": [
        "### We will use SQLite3, a Python package for SQL to play with SQL queries."
      ]
    },
    {
      "cell_type": "code",
      "execution_count": null,
      "id": "favorite-jumping",
      "metadata": {
        "id": "favorite-jumping"
      },
      "outputs": [],
      "source": [
        "#!conda install sqlite3\n",
        "!pip3 install sqlite3\n",
        "import sqlite3"
      ]
    },
    {
      "cell_type": "markdown",
      "id": "wrapped-therapist",
      "metadata": {
        "id": "wrapped-therapist"
      },
      "source": [
        "### The database we are using contains data from the FIFA video game."
      ]
    },
    {
      "cell_type": "code",
      "execution_count": null,
      "id": "advance-heath",
      "metadata": {
        "id": "advance-heath"
      },
      "outputs": [],
      "source": [
        "conn = sqlite3.connect('database.sqlite')"
      ]
    },
    {
      "cell_type": "code",
      "execution_count": null,
      "id": "thermal-source",
      "metadata": {
        "id": "thermal-source"
      },
      "outputs": [],
      "source": [
        "c = conn.cursor()"
      ]
    },
    {
      "cell_type": "markdown",
      "id": "least-drill",
      "metadata": {
        "id": "least-drill"
      },
      "source": [
        "### First we'll create a query to show all of the tables in the database."
      ]
    },
    {
      "cell_type": "code",
      "execution_count": null,
      "id": "placed-clark",
      "metadata": {
        "id": "placed-clark"
      },
      "outputs": [],
      "source": [
        "c.execute(\"\"\"SELECT name FROM sqlite_master WHERE type='table' ORDER BY name;\"\"\")\n",
        "available_tables = (c.fetchall())"
      ]
    },
    {
      "cell_type": "code",
      "execution_count": null,
      "id": "automotive-specialist",
      "metadata": {
        "id": "automotive-specialist"
      },
      "outputs": [],
      "source": [
        "available_tables"
      ]
    },
    {
      "cell_type": "markdown",
      "id": "rural-divide",
      "metadata": {
        "id": "rural-divide"
      },
      "source": [
        "### Now we'll look at a specific table in the database."
      ]
    },
    {
      "cell_type": "code",
      "execution_count": null,
      "id": "alone-sunset",
      "metadata": {
        "id": "alone-sunset"
      },
      "outputs": [],
      "source": [
        "c.execute(\"\"\"SELECT * FROM player;\"\"\")\n",
        "c.fetchall()"
      ]
    },
    {
      "cell_type": "markdown",
      "id": "invalid-accident",
      "metadata": {
        "id": "invalid-accident"
      },
      "source": [
        "### So, we have looked at a table, but let us try to look at only specific fields."
      ]
    },
    {
      "cell_type": "code",
      "execution_count": null,
      "id": "floppy-pleasure",
      "metadata": {
        "id": "floppy-pleasure"
      },
      "outputs": [],
      "source": [
        "c.execute(\"\"\"SELECT player_name, birthday FROM player;\"\"\")\n",
        "c.fetchall()"
      ]
    },
    {
      "cell_type": "markdown",
      "id": "fourth-newark",
      "metadata": {
        "id": "fourth-newark"
      },
      "source": [
        "### But, how can we get the database to only return specific rows in the table?"
      ]
    },
    {
      "cell_type": "code",
      "execution_count": null,
      "id": "ecological-centre",
      "metadata": {
        "id": "ecological-centre"
      },
      "outputs": [],
      "source": [
        "c.execute(\"\"\"SELECT * FROM player WHERE weight < 130;\"\"\")\n",
        "c.fetchall()"
      ]
    },
    {
      "cell_type": "markdown",
      "id": "humanitarian-extent",
      "metadata": {
        "id": "humanitarian-extent"
      },
      "source": [
        "### And, what if we want to search for players by name?"
      ]
    },
    {
      "cell_type": "code",
      "execution_count": null,
      "id": "instructional-alert",
      "metadata": {
        "id": "instructional-alert"
      },
      "outputs": [],
      "source": [
        "c.execute(\"\"\"SELECT * FROM player WHERE player_name LIKE \"Javier%\";\"\"\")\n",
        "c.fetchall()"
      ]
    },
    {
      "cell_type": "markdown",
      "id": "fatal-detail",
      "metadata": {
        "id": "fatal-detail"
      },
      "source": [
        "### We can be even more specific:"
      ]
    },
    {
      "cell_type": "code",
      "execution_count": null,
      "id": "fatal-marketplace",
      "metadata": {
        "id": "fatal-marketplace"
      },
      "outputs": [],
      "source": [
        "c.execute(\"\"\"SELECT * FROM player WHERE player_name LIKE \"Javier B%\";\"\"\")\n",
        "c.fetchall()"
      ]
    },
    {
      "cell_type": "markdown",
      "id": "controlled-brave",
      "metadata": {
        "id": "controlled-brave"
      },
      "source": [
        "### What if we want to find all names with 'Jack' in them?"
      ]
    },
    {
      "cell_type": "code",
      "execution_count": null,
      "id": "conservative-investor",
      "metadata": {
        "id": "conservative-investor"
      },
      "outputs": [],
      "source": [
        "c.execute(\"\"\"SELECT * FROM player WHERE player_name LIKE \"%jack%\";\"\"\")\n",
        "c.fetchall()"
      ]
    },
    {
      "cell_type": "markdown",
      "id": "explicit-terrain",
      "metadata": {
        "id": "explicit-terrain"
      },
      "source": [
        "### Now, we want to be more precise using the underscore:"
      ]
    },
    {
      "cell_type": "code",
      "execution_count": null,
      "id": "spare-injection",
      "metadata": {
        "id": "spare-injection"
      },
      "outputs": [],
      "source": [
        "c.execute(\"\"\"SELECT * FROM player WHERE player_name LIKE \"T_m %\";\"\"\")\n",
        "c.fetchall()"
      ]
    },
    {
      "cell_type": "markdown",
      "id": "reverse-private",
      "metadata": {
        "id": "reverse-private"
      },
      "source": [
        "### Or if we want to look for a names in a list of names:"
      ]
    },
    {
      "cell_type": "code",
      "execution_count": null,
      "id": "entire-allowance",
      "metadata": {
        "id": "entire-allowance"
      },
      "outputs": [],
      "source": [
        "c.execute(\"\"\"SELECT * FROM player WHERE player_name IN (\"Cristiano Ronaldo\",\"Lionel Messi\");\"\"\")\n",
        "c.fetchall()"
      ]
    },
    {
      "cell_type": "markdown",
      "id": "relative-habitat",
      "metadata": {
        "id": "relative-habitat"
      },
      "source": [
        "### Or if we want to find values in a range:"
      ]
    },
    {
      "cell_type": "code",
      "execution_count": null,
      "id": "dietary-scheme",
      "metadata": {
        "id": "dietary-scheme"
      },
      "outputs": [],
      "source": [
        "c.execute(\"\"\"SELECT * FROM player WHERE weight BETWEEN 120 and 130;\"\"\")\n",
        "c.fetchall()"
      ]
    },
    {
      "cell_type": "code",
      "execution_count": null,
      "id": "timely-programmer",
      "metadata": {
        "id": "timely-programmer"
      },
      "outputs": [],
      "source": []
    },
    {
      "cell_type": "code",
      "execution_count": null,
      "id": "supreme-messaging",
      "metadata": {
        "id": "supreme-messaging"
      },
      "outputs": [],
      "source": []
    },
    {
      "cell_type": "markdown",
      "id": "lasting-crisis",
      "metadata": {
        "id": "lasting-crisis"
      },
      "source": [
        "# Assignment #2"
      ]
    },
    {
      "cell_type": "markdown",
      "id": "horizontal-birth",
      "metadata": {
        "id": "horizontal-birth"
      },
      "source": [
        "### Construct SQL querries to complete this notebook, then save it as a pdf.\n",
        "### The file name should have no spaces. It should be your last name and your first name then \"-AssignmentOne\" --> like this: \"GruetzemacherRoss-AssignmentOne.pdf\"."
      ]
    },
    {
      "cell_type": "markdown",
      "id": "average-visitor",
      "metadata": {
        "id": "average-visitor"
      },
      "source": [
        "### 1. List the players greater than 200cm in height and less than 175lbs by height."
      ]
    },
    {
      "cell_type": "code",
      "execution_count": null,
      "id": "prompt-victorian",
      "metadata": {
        "id": "prompt-victorian",
        "outputId": "8101c854-21e8-461c-fe65-6fb88681683d"
      },
      "outputs": [
        {
          "data": {
            "text/plain": [
              "[(2250, 33330, 'Danny Wintjens', 28097, '1983-09-30 00:00:00', 200.66, 168),\n",
              " (9034, 32786, 'Robert Jones', 155018, '1979-11-03 00:00:00', 200.66, 170)]"
            ]
          },
          "execution_count": 41,
          "metadata": {},
          "output_type": "execute_result"
        }
      ],
      "source": [
        "c.execute(\"\"\"ENTER YOUR QUERY HERE;\"\"\")\n",
        "c.fetchall()"
      ]
    },
    {
      "cell_type": "markdown",
      "id": "accessible-sydney",
      "metadata": {
        "id": "accessible-sydney"
      },
      "source": [
        "### 2. Find the one player whose last name contains the name Aaron?"
      ]
    },
    {
      "cell_type": "code",
      "execution_count": null,
      "id": "improved-overview",
      "metadata": {
        "id": "improved-overview",
        "outputId": "e05c5842-9214-4986-f972-145bddec3aac"
      },
      "outputs": [
        {
          "data": {
            "text/plain": [
              "[(1, 505942, 'Aaron Appindangoye', 218353, '1992-02-29 00:00:00', 182.88, 187),\n",
              " (2, 155782, 'Aaron Cresswell', 189615, '1989-12-15 00:00:00', 170.18, 146),\n",
              " (3, 162549, 'Aaron Doran', 186170, '1991-05-13 00:00:00', 170.18, 163),\n",
              " (4, 30572, 'Aaron Galindo', 140161, '1982-05-08 00:00:00', 182.88, 198),\n",
              " (5, 23780, 'Aaron Hughes', 17725, '1979-11-08 00:00:00', 182.88, 154),\n",
              " (6, 27316, 'Aaron Hunt', 158138, '1986-09-04 00:00:00', 182.88, 161),\n",
              " (7, 564793, 'Aaron Kuhl', 221280, '1996-01-30 00:00:00', 172.72, 146),\n",
              " (8, 30895, 'Aaron Lennon', 152747, '1987-04-16 00:00:00', 165.1, 139),\n",
              " (9, 528212, 'Aaron Lennox', 206592, '1993-02-19 00:00:00', 190.5, 181),\n",
              " (10, 101042, 'Aaron Meijers', 188621, '1987-10-28 00:00:00', 175.26, 170),\n",
              " (11, 23889, 'Aaron Mokoena', 47189, '1980-11-25 00:00:00', 182.88, 181),\n",
              " (12, 231592, 'Aaron Mooy', 194958, '1990-09-15 00:00:00', 175.26, 150),\n",
              " (13, 163222, 'Aaron Muirhead', 213568, '1990-08-30 00:00:00', 187.96, 168),\n",
              " (14, 40719, 'Aaron Niguez', 183853, '1989-04-26 00:00:00', 170.18, 143),\n",
              " (15, 75489, 'Aaron Ramsey', 186561, '1990-12-26 00:00:00', 177.8, 154),\n",
              " (16, 597948, 'Aaron Splaine', 226014, '1996-10-13 00:00:00', 172.72, 163),\n",
              " (17,\n",
              "  161644,\n",
              "  'Aaron Taylor-Sinclair',\n",
              "  213569,\n",
              "  '1991-04-08 00:00:00',\n",
              "  182.88,\n",
              "  176),\n",
              " (18, 23499, 'Aaron Wilbraham', 2335, '1979-10-21 00:00:00', 190.5, 159),\n",
              " (9157, 570431, 'Rolando Aarons', 222513, '1995-11-16 00:00:00', 175.26, 148)]"
            ]
          },
          "execution_count": 27,
          "metadata": {},
          "output_type": "execute_result"
        }
      ],
      "source": [
        "c.execute(\"\"\"ENTER YOUR QUERY HERE;\"\"\")\n",
        "c.fetchall()"
      ]
    },
    {
      "cell_type": "markdown",
      "id": "automated-underwear",
      "metadata": {
        "id": "automated-underwear"
      },
      "source": [
        "### 3. Find all of the players whose height is between 165cm and 166cm that weigh 150lbs."
      ]
    },
    {
      "cell_type": "code",
      "execution_count": null,
      "id": "positive-likelihood",
      "metadata": {
        "id": "positive-likelihood",
        "outputId": "d8e45988-1755-4be5-948e-86aff1cbd212"
      },
      "outputs": [
        {
          "data": {
            "text/plain": [
              "[(328,\n",
              "  45220,\n",
              "  'Alejandro Daro Gomez',\n",
              "  143076,\n",
              "  '1988-02-15 00:00:00',\n",
              "  165.1,\n",
              "  150),\n",
              " (1812,\n",
              "  303343,\n",
              "  'Christopher Johnston',\n",
              "  211673,\n",
              "  '1994-09-03 00:00:00',\n",
              "  165.1,\n",
              "  150),\n",
              " (2628, 51321, 'Diego Gomez', 158877, '1984-01-05 00:00:00', 165.1, 150),\n",
              " (5992, 111190, 'Laure', 188930, '1985-03-22 00:00:00', 165.1, 150),\n",
              " (7114, 111033, 'Matias Alustiza', 186650, '1984-05-31 00:00:00', 165.1, 150),\n",
              " (8522, 243649, 'Pedro Ramirez', 220765, '1992-08-24 00:00:00', 165.1, 150),\n",
              " (10481, 421995, 'Toze', 212729, '1993-01-14 00:00:00', 165.1, 150)]"
            ]
          },
          "execution_count": 40,
          "metadata": {},
          "output_type": "execute_result"
        }
      ],
      "source": [
        "c.execute(\"\"\"ENTER YOUR QUERY HERE;\"\"\")\n",
        "c.fetchall()"
      ]
    },
    {
      "cell_type": "markdown",
      "id": "fatty-covering",
      "metadata": {
        "id": "fatty-covering"
      },
      "source": [
        "### 4. Find the 10 tallest players and order them by weight."
      ]
    },
    {
      "cell_type": "code",
      "execution_count": null,
      "id": "patient-stone",
      "metadata": {
        "id": "patient-stone",
        "outputId": "8cf27581-70cd-4b8a-9f25-9f3a67a0ca40",
        "scrolled": true
      },
      "outputs": [
        {
          "data": {
            "text/plain": [
              "[(3274, 601304, 'Fejsal Mulic', 226114, '1994-10-03 00:00:00', 203.2, 185),\n",
              " (8285, 41129, 'Paolo Acerbis', 137130, '1981-05-05 00:00:00', 203.2, 190),\n",
              " (5957, 150297, 'Lacina Traore', 199074, '1990-05-20 00:00:00', 203.2, 192),\n",
              " (5804, 96465, 'Kevin Vink', 193674, '1984-07-30 00:00:00', 203.2, 194),\n",
              " (10574,\n",
              "  543021,\n",
              "  'Vanja Milinkovic-Savic',\n",
              "  224836,\n",
              "  '1997-02-20 00:00:00',\n",
              "  203.2,\n",
              "  203),\n",
              " (8638, 39522, 'Pietro Marino', 178389, '1986-11-21 00:00:00', 203.2, 209),\n",
              " (11043, 30850, 'Zeljko Kalac', 51883, '1972-12-16 00:00:00', 203.2, 209),\n",
              " (1926,\n",
              "  103428,\n",
              "  'Costel Pantilimon',\n",
              "  192613,\n",
              "  '1987-02-01 00:00:00',\n",
              "  203.2,\n",
              "  212),\n",
              " (5568, 26585, 'Jurgen Wevers', 148875, '1979-01-12 00:00:00', 203.2, 212),\n",
              " (8016, 38567, 'Nikola Zigic', 167515, '1980-09-25 00:00:00', 203.2, 212),\n",
              " (1301, 150209, 'Bogdan Milic', 189967, '1987-11-24 00:00:00', 203.2, 216),\n",
              " (9916, 27372, 'Stefan Maierhofer', 179549, '1982-08-16 00:00:00', 203.2, 216),\n",
              " (5908,\n",
              "  148325,\n",
              "  'Kristof van Hout',\n",
              "  185306,\n",
              "  '1987-02-09 00:00:00',\n",
              "  208.28,\n",
              "  243)]"
            ]
          },
          "execution_count": 46,
          "metadata": {},
          "output_type": "execute_result"
        }
      ],
      "source": [
        "c.execute(\"\"\"ENTER YOUR QUERY HERE\"\"\")\n",
        "c.fetchall()"
      ]
    },
    {
      "cell_type": "markdown",
      "id": "medium-publicity",
      "metadata": {
        "id": "medium-publicity"
      },
      "source": [
        "HINT: https://www.youtube.com/watch?v=kbKty5ZVKMY"
      ]
    }
  ],
  "metadata": {
    "colab": {
      "provenance": []
    },
    "kernelspec": {
      "display_name": "Python 3 (ipykernel)",
      "language": "python",
      "name": "python3"
    },
    "language_info": {
      "codemirror_mode": {
        "name": "ipython",
        "version": 3
      },
      "file_extension": ".py",
      "mimetype": "text/x-python",
      "name": "python",
      "nbconvert_exporter": "python",
      "pygments_lexer": "ipython3",
      "version": "3.10.9"
    }
  },
  "nbformat": 4,
  "nbformat_minor": 5
}