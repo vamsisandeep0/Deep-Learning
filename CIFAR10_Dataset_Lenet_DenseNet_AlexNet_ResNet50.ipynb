{
  "cells": [
    {
      "cell_type": "markdown",
      "source": [
        "# LeNet"
      ],
      "metadata": {
        "id": "YINf-EJXVuKW"
      }
    },
    {
      "cell_type": "code",
      "execution_count": null,
      "metadata": {
        "colab": {
          "base_uri": "https://localhost:8080/",
          "height": 941
        },
        "id": "gjP5H1hg0Or6",
        "outputId": "01fb1a35-89e1-4d53-9139-807ab4b3e8d6"
      },
      "outputs": [
        {
          "output_type": "stream",
          "name": "stdout",
          "text": [
            "Epoch 1/12\n",
            "1563/1563 [==============================] - 48s 30ms/step - loss: 1.6328 - accuracy: 0.4059 - val_loss: 1.4508 - val_accuracy: 0.4829\n",
            "Epoch 2/12\n",
            "1563/1563 [==============================] - 37s 24ms/step - loss: 1.3678 - accuracy: 0.5095 - val_loss: 1.3248 - val_accuracy: 0.5258\n",
            "Epoch 3/12\n",
            "1563/1563 [==============================] - 38s 24ms/step - loss: 1.2629 - accuracy: 0.5500 - val_loss: 1.2625 - val_accuracy: 0.5426\n",
            "Epoch 4/12\n",
            "1563/1563 [==============================] - 37s 24ms/step - loss: 1.1881 - accuracy: 0.5758 - val_loss: 1.2029 - val_accuracy: 0.5684\n",
            "Epoch 5/12\n",
            "1563/1563 [==============================] - 42s 27ms/step - loss: 1.1221 - accuracy: 0.6028 - val_loss: 1.1598 - val_accuracy: 0.5845\n",
            "Epoch 6/12\n",
            "1563/1563 [==============================] - 43s 28ms/step - loss: 1.0661 - accuracy: 0.6256 - val_loss: 1.1670 - val_accuracy: 0.5846\n",
            "Epoch 7/12\n",
            "1563/1563 [==============================] - 37s 24ms/step - loss: 1.0231 - accuracy: 0.6379 - val_loss: 1.1401 - val_accuracy: 0.5999\n",
            "Epoch 8/12\n",
            "1563/1563 [==============================] - 37s 24ms/step - loss: 0.9797 - accuracy: 0.6528 - val_loss: 1.1498 - val_accuracy: 0.5984\n",
            "Epoch 9/12\n",
            "1563/1563 [==============================] - 40s 25ms/step - loss: 0.9414 - accuracy: 0.6689 - val_loss: 1.1674 - val_accuracy: 0.5879\n",
            "Epoch 10/12\n",
            "1563/1563 [==============================] - 38s 24ms/step - loss: 0.9117 - accuracy: 0.6777 - val_loss: 1.1324 - val_accuracy: 0.6063\n",
            "Epoch 11/12\n",
            "1563/1563 [==============================] - 39s 25ms/step - loss: 0.8772 - accuracy: 0.6874 - val_loss: 1.1492 - val_accuracy: 0.6122\n",
            "Epoch 12/12\n",
            "1563/1563 [==============================] - 37s 24ms/step - loss: 0.8474 - accuracy: 0.7018 - val_loss: 1.1402 - val_accuracy: 0.6096\n",
            "313/313 - 2s - loss: 1.1402 - accuracy: 0.6096 - 2s/epoch - 8ms/step\n",
            "\n",
            "Test accuracy: 0.6096000075340271\n"
          ]
        },
        {
          "output_type": "execute_result",
          "data": {
            "text/plain": [
              "<matplotlib.legend.Legend at 0x7e3899df7220>"
            ]
          },
          "metadata": {},
          "execution_count": 2
        },
        {
          "output_type": "display_data",
          "data": {
            "text/plain": [
              "<Figure size 640x480 with 1 Axes>"
            ],
            "image/png": "[encoded data removed]"
          },
          "metadata": {}
        }
      ],
      "source": [
        "### LeNet\n",
        "\n",
        "import tensorflow as tf\n",
        "from tensorflow.keras import datasets, layers, models\n",
        "import matplotlib.pyplot as plt\n",
        "\n",
        "# Load and preprocess the CIFAR-10 dataset\n",
        "(train_images, train_labels), (test_images, test_labels) = datasets.cifar10.load_data()\n",
        "\n",
        "\n",
        "# Normalize pixel values to be between 0 and 1\n",
        "train_images, test_images = train_images / 255.0, test_images / 255.0\n",
        "\n",
        "# Define the input shape\n",
        "input_shape=(32, 32, 3)\n",
        "\n",
        "# Define the LeNet CNN architecture\n",
        "model = models.Sequential()\n",
        "model.add(layers.Conv2D(6, kernel_size=(5, 5), activation='relu', input_shape=input_shape))\n",
        "model.add(layers.AveragePooling2D())\n",
        "model.add(layers.Conv2D(16, kernel_size=(5, 5), activation='relu'))\n",
        "model.add(layers.AveragePooling2D())\n",
        "model.add(layers.Flatten())\n",
        "model.add(layers.Dense(120, activation='relu'))\n",
        "model.add(layers.Dense(84, activation='relu'))\n",
        "model.add(layers.Dense(10))\n",
        "\n",
        "# Compile the model\n",
        "model.compile(optimizer='adam',\n",
        "              loss=tf.keras.losses.SparseCategoricalCrossentropy(from_logits=True),\n",
        "              metrics=['accuracy'])\n",
        "\n",
        "# Train the model\n",
        "history = model.fit(train_images, train_labels, epochs=12,\n",
        "                    validation_data=(test_images, test_labels))\n",
        "\n",
        "# Evaluate the model\n",
        "test_loss, accuracy_of_test = model.evaluate(test_images,  test_labels, verbose=2)\n",
        "print('\\nTest accuracy:', accuracy_of_test)\n",
        "\n",
        "# Plot training and validation accuracy\n",
        "plt.plot(history.history['accuracy'], label='accuracy')\n",
        "plt.plot(history.history['val_accuracy'], label = 'val_accuracy')\n",
        "plt.xlabel('Epoch')\n",
        "plt.ylabel('Accuracy')\n",
        "plt.ylim([0, 1])\n",
        "plt.legend(loc='lower right')\n"
      ]
    },
    {
      "cell_type": "markdown",
      "source": [
        "The LeNet Convolutional Neural Network (CNN) architecture is implemented using TensorFlow to classify images from the CIFAR-10 dataset. The CIFAR-10 dataset comprises 60,000 color images of size 32x32, distributed across 10 classes. The dataset is first loaded and normalized, with pixel values scaled to be between 0 and 1 for optimal neural network performance.\n",
        "The LeNet architecture, a pioneering CNN model, is then defined. It consists of two convolutional layers, each followed by an average pooling layer. The first convolutional layer has six filters of size 5x5, and the second one has sixteen filters of the same size. These layers are designed to extract spatial hierarchies of features from the input images. After the convolutional and pooling layers, the network flattens the output and passes it through two fully connected layers with 120 and 84 neurons, respectively, to further process the features. The final layer is a dense layer with 10 neurons, corresponding to the 10 classes of the CIFAR-10 dataset, which outputs the classification probabilities.\n",
        "The model is compiled using the Adam optimizer, a popular choice for training deep learning models due to its adaptive learning rate properties. The loss function used is Sparse Categorical Crossentropy, suitable for multi-class classification problems where each class is mutually exclusive.\n",
        "The model is trained on the CIFAR-10 training dataset for 12 epochs, with the test set used as validation data to monitor the model's performance. After training, the model's accuracy is evaluated on the test set to determine its effectiveness in classifying unseen data.\n",
        "Finally, the training and validation accuracies are plotted against epochs to visualize the model's learning progress. This plot helps in understanding how well the model is learning and generalizing over time, with an expected increase in accuracy as the number of epochs increases.\n"
      ],
      "metadata": {
        "id": "V4pZczQ_mtl9"
      }
    },
    {
      "cell_type": "markdown",
      "source": [
        "# AlexNet"
      ],
      "metadata": {
        "id": "MsZ1R-qHVsoU"
      }
    },
    {
      "cell_type": "code",
      "execution_count": null,
      "metadata": {
        "colab": {
          "base_uri": "https://localhost:8080/",
          "height": 924
        },
        "id": "A2DjAZ4O0PTX",
        "outputId": "6ba4b414-0cfc-4f23-d291-8c7d43e6b35d"
      },
      "outputs": [
        {
          "output_type": "stream",
          "name": "stdout",
          "text": [
            "Epoch 1/12\n",
            "469/469 [==============================] - 204s 432ms/step - loss: 2.2965 - accuracy: 0.1244 - val_loss: 2.2780 - val_accuracy: 0.1147\n",
            "Epoch 2/12\n",
            "469/469 [==============================] - 201s 429ms/step - loss: 2.1885 - accuracy: 0.1798 - val_loss: 2.2385 - val_accuracy: 0.1690\n",
            "Epoch 3/12\n",
            "469/469 [==============================] - 204s 434ms/step - loss: 2.0530 - accuracy: 0.2313 - val_loss: 1.9624 - val_accuracy: 0.2763\n",
            "Epoch 4/12\n",
            "469/469 [==============================] - 202s 431ms/step - loss: 1.9540 - accuracy: 0.2714 - val_loss: 2.0135 - val_accuracy: 0.2617\n",
            "Epoch 5/12\n",
            "469/469 [==============================] - 211s 450ms/step - loss: 1.8627 - accuracy: 0.3076 - val_loss: 1.8321 - val_accuracy: 0.3473\n",
            "Epoch 6/12\n",
            "469/469 [==============================] - 200s 428ms/step - loss: 1.7653 - accuracy: 0.3462 - val_loss: 1.6837 - val_accuracy: 0.3850\n",
            "Epoch 7/12\n",
            "469/469 [==============================] - 203s 432ms/step - loss: 1.6959 - accuracy: 0.3731 - val_loss: 1.5928 - val_accuracy: 0.4227\n",
            "Epoch 8/12\n",
            "469/469 [==============================] - 201s 428ms/step - loss: 1.6295 - accuracy: 0.4000 - val_loss: 1.5315 - val_accuracy: 0.4477\n",
            "Epoch 9/12\n",
            "469/469 [==============================] - 202s 432ms/step - loss: 1.5697 - accuracy: 0.4181 - val_loss: 1.5220 - val_accuracy: 0.4440\n",
            "Epoch 10/12\n",
            "469/469 [==============================] - 201s 428ms/step - loss: 1.5123 - accuracy: 0.4347 - val_loss: 1.4267 - val_accuracy: 0.4890\n",
            "Epoch 11/12\n",
            "469/469 [==============================] - 201s 430ms/step - loss: 1.4612 - accuracy: 0.4643 - val_loss: 1.4081 - val_accuracy: 0.4907\n",
            "Epoch 12/12\n",
            "469/469 [==============================] - 200s 427ms/step - loss: 1.4156 - accuracy: 0.4791 - val_loss: 1.3608 - val_accuracy: 0.5073\n",
            "94/94 - 10s - loss: 1.3608 - accuracy: 0.5073 - 10s/epoch - 107ms/step\n",
            "\n",
            "Test accuracy: 0.5073333382606506\n"
          ]
        },
        {
          "output_type": "display_data",
          "data": {
            "text/plain": [
              "<Figure size 640x480 with 1 Axes>"
            ],
            "image/png": "[encoded data removed]"
          },
          "metadata": {}
        }
      ],
      "source": [
        "### AlexNet\n",
        "\n",
        "import tensorflow as tf\n",
        "from tensorflow.keras import datasets, layers, models\n",
        "import matplotlib.pyplot as plt\n",
        "\n",
        "# Load and preprocess the CIFAR-10 dataset\n",
        "(train_images, train_labels), (test_images, test_labels) = datasets.cifar10.load_data()\n",
        "\n",
        "# Normalize pixel values to be between 0 and 1\n",
        "train_images, test_images = train_images / 255.0, test_images / 255.0\n",
        "\n",
        "train_images = train_images[:15000]\n",
        "test_images = test_images[:3000]\n",
        "train_labels = train_labels[:15000]\n",
        "test_labels = test_labels[:3000]\n",
        "\n",
        "# Define the modified AlexNet architecture\n",
        "model = models.Sequential()\n",
        "model.add(layers.Conv2D(48, (3, 3), strides=(1, 1), activation='relu', input_shape=(32, 32, 3)))\n",
        "model.add(layers.MaxPooling2D((2, 2), strides=(2, 2)))\n",
        "model.add(layers.Conv2D(128, (5, 5), padding='same', activation='relu'))\n",
        "model.add(layers.MaxPooling2D((2, 2), strides=(2, 2)))\n",
        "model.add(layers.Conv2D(192, (3, 3), padding='same', activation='relu'))\n",
        "model.add(layers.Conv2D(192, (3, 3), padding='same', activation='relu'))\n",
        "model.add(layers.Conv2D(128, (3, 3), padding='same', activation='relu'))\n",
        "model.add(layers.MaxPooling2D((2, 2), strides=(2, 2)))\n",
        "model.add(layers.Flatten())\n",
        "model.add(layers.Dense(2048, activation='relu'))\n",
        "model.add(layers.Dropout(0.5))\n",
        "model.add(layers.Dense(2048, activation='relu'))\n",
        "model.add(layers.Dropout(0.5))\n",
        "model.add(layers.Dense(10, activation='softmax'))\n",
        "\n",
        "# Compile the model with SGD optimizer\n",
        "model.compile(optimizer='sgd',\n",
        "              loss='sparse_categorical_crossentropy',\n",
        "              metrics=['accuracy'])\n",
        "\n",
        "# Train the model with epochs\n",
        "history = model.fit(train_images, train_labels, epochs=12,\n",
        "                    validation_data=(test_images, test_labels))\n",
        "\n",
        "# Evaluate the model\n",
        "test_loss, accuracy_of_test = model.evaluate(test_images, test_labels, verbose=2)\n",
        "print('\\nTest accuracy:', accuracy_of_test)\n",
        "\n",
        "# Plot training and validation accuracy\n",
        "plt.plot(history.history['accuracy'], label='accuracy')\n",
        "plt.plot(history.history['val_accuracy'], label = 'val_accuracy')\n",
        "plt.xlabel('Epoch')\n",
        "plt.ylabel('Accuracy')\n",
        "plt.ylim([0, 1])\n",
        "plt.legend(loc='lower right')\n",
        "plt.show()\n"
      ]
    },
    {
      "cell_type": "markdown",
      "source": [
        "The Alex Net Convolutional Neural Network (CNN) architecture is implemented using TensorFlow to classify images from the CIFAR-10 dataset. The CIFAR-10 dataset is loaded by importing TensorFlow. For this implementation, the dataset is first loaded and normalized, with pixel values scaled to be between 0 and 1. Additionally, the dataset is reduced to 15,000 training images and 3,000 test images to manage computational resources.\n",
        "The AlexNet architecture, known for its success in the ImageNet challenge, is adapted to the smaller input size of the CIFAR-10 dataset. The network begins with a convolutional layer with 48 filters of size 3x3, followed by a max-pooling layer. This pattern is repeated with varying numbers of filters and kernel sizes, specifically 128 filters with 5x5 kernels, and three consecutive layers with 192, 192, and 128 filters, all with 3x3 kernels. Each convolutional layer is followed by a max-pooling layer to reduce spatial dimensions and increase computational efficiency.\n",
        "After the convolutional and pooling layers, the network is flattened and passed through two fully connected layers, each with 2048 neurons. Dropout layers with a rate of 0.5 are applied after each fully connected layer to reduce overfitting by randomly setting a fraction of input units to zero during training.\n",
        "The model is compiled with the Stochastic Gradient Descent (SGD) optimizer and the sparse categorical crossentropy loss function, suitable for multi-class classification tasks. It is trained for 12 epochs, with the test set used as validation data to monitor the model's performance.\n",
        "After training, the model's accuracy is evaluated on the test set to determine its effectiveness in classifying unseen data. Finally, the training and validation accuracies are plotted against epochs to visualize the model's learning progress, which typically shows an increase in accuracy as the number of epochs increases. This visualization helps in understanding the model's performance and can guide further tuning and experimentation.\n"
      ],
      "metadata": {
        "id": "HXVd2Ls8nk1Z"
      }
    },
    {
      "cell_type": "markdown",
      "source": [
        "# DenseNet"
      ],
      "metadata": {
        "id": "GpbdfAKgWayX"
      }
    },
    {
      "cell_type": "code",
      "source": [
        "### DenseNet\n",
        "\n",
        "import tensorflow as tf\n",
        "from tensorflow.keras import datasets, layers, models\n",
        "from tensorflow.keras.applications import DenseNet121\n",
        "import matplotlib.pyplot as plt\n",
        "\n",
        "# Load and preprocess the CIFAR-10 dataset\n",
        "(train_images, train_labels), (test_images, test_labels) = datasets.cifar10.load_data()\n",
        "\n",
        "# Normalize pixel values to be between 0 and 1\n",
        "train_images, test_images = train_images / 255.0, test_images / 255.0\n",
        "\n",
        "# Define the input shape\n",
        "input_shape = (32, 32, 3)\n",
        "\n",
        "# Load the pre-trained DenseNet121 model with a custom input shape\n",
        "base_model = DenseNet121(weights='imagenet', include_top=False, input_shape=input_shape)\n",
        "\n",
        "# Freeze the base model\n",
        "base_model.trainable = False\n",
        "\n",
        "# Add custom layers on top of the base model\n",
        "model = models.Sequential([\n",
        "    base_model,\n",
        "    layers.GlobalAveragePooling2D(),\n",
        "    layers.Dense(128, activation='relu'),\n",
        "    layers.Dropout(0.5),\n",
        "    layers.Dense(10, activation='softmax')\n",
        "])\n",
        "\n",
        "# Compile the model\n",
        "model.compile(optimizer='adam',\n",
        "              loss='sparse_categorical_crossentropy',\n",
        "              metrics=['accuracy'])\n",
        "\n",
        "# Train the model\n",
        "history = model.fit(train_images, train_labels, epochs=12,\n",
        "                    validation_data=(test_images, test_labels))\n",
        "\n",
        "# Evaluate the model\n",
        "test_loss, test_of_accuracy = model.evaluate(test_images, test_labels, verbose=2)\n",
        "print('\\nTest accuracy:', test_of_accuracy)\n",
        "\n",
        "# Plot training and validation accuracy\n",
        "plt.plot(history.history['accuracy'], label='Training Accuracy')\n",
        "plt.plot(history.history['val_accuracy'], label='Validation Accuracy')\n",
        "plt.title('Training and Validation Accuracy')\n",
        "plt.xlabel('Epoch')\n",
        "plt.ylabel('Accuracy')\n",
        "plt.legend()\n",
        "plt.show()\n"
      ],
      "metadata": {
        "colab": {
          "base_uri": "https://localhost:8080/",
          "height": 975
        },
        "id": "f-UOyJzL3l6w",
        "outputId": "ab51d198-09d4-4268-f081-a6dafe9ad0a0"
      },
      "execution_count": null,
      "outputs": [
        {
          "output_type": "stream",
          "name": "stdout",
          "text": [
            "Downloading data from https://storage.googleapis.com/tensorflow/keras-applications/densenet/densenet121_weights_tf_dim_ordering_tf_kernels_notop.h5\n",
            "29084464/29084464 [==============================] - 0s 0us/step\n",
            "Epoch 1/12\n",
            "1563/1563 [==============================] - 238s 145ms/step - loss: 1.5011 - accuracy: 0.4726 - val_loss: 1.1705 - val_accuracy: 0.5914\n",
            "Epoch 2/12\n",
            "1563/1563 [==============================] - 231s 148ms/step - loss: 1.2826 - accuracy: 0.5516 - val_loss: 1.1085 - val_accuracy: 0.6166\n",
            "Epoch 3/12\n",
            "1563/1563 [==============================] - 230s 147ms/step - loss: 1.2209 - accuracy: 0.5730 - val_loss: 1.0816 - val_accuracy: 0.6241\n",
            "Epoch 4/12\n",
            "1563/1563 [==============================] - 230s 147ms/step - loss: 1.1838 - accuracy: 0.5853 - val_loss: 1.0751 - val_accuracy: 0.6282\n",
            "Epoch 5/12\n",
            "1563/1563 [==============================] - 237s 151ms/step - loss: 1.1590 - accuracy: 0.5933 - val_loss: 1.0604 - val_accuracy: 0.6272\n",
            "Epoch 6/12\n",
            "1563/1563 [==============================] - 232s 149ms/step - loss: 1.1347 - accuracy: 0.6026 - val_loss: 1.0581 - val_accuracy: 0.6351\n",
            "Epoch 7/12\n",
            "1563/1563 [==============================] - 231s 148ms/step - loss: 1.1193 - accuracy: 0.6070 - val_loss: 1.0553 - val_accuracy: 0.6349\n",
            "Epoch 8/12\n",
            "1563/1563 [==============================] - 230s 147ms/step - loss: 1.1083 - accuracy: 0.6130 - val_loss: 1.0440 - val_accuracy: 0.6389\n",
            "Epoch 9/12\n",
            "1563/1563 [==============================] - 231s 148ms/step - loss: 1.0985 - accuracy: 0.6123 - val_loss: 1.0421 - val_accuracy: 0.6345\n",
            "Epoch 10/12\n",
            "1563/1563 [==============================] - 231s 148ms/step - loss: 1.0861 - accuracy: 0.6168 - val_loss: 1.0434 - val_accuracy: 0.6385\n",
            "Epoch 11/12\n",
            "1563/1563 [==============================] - 232s 148ms/step - loss: 1.0753 - accuracy: 0.6190 - val_loss: 1.0362 - val_accuracy: 0.6397\n",
            "Epoch 12/12\n",
            "1563/1563 [==============================] - 233s 149ms/step - loss: 1.0644 - accuracy: 0.6208 - val_loss: 1.0300 - val_accuracy: 0.6437\n",
            "313/313 - 35s - loss: 1.0300 - accuracy: 0.6437 - 35s/epoch - 113ms/step\n",
            "\n",
            "Test accuracy: 0.6437000036239624\n"
          ]
        },
        {
          "output_type": "display_data",
          "data": {
            "text/plain": [
              "<Figure size 640x480 with 1 Axes>"
            ],
            "image/png": "[encoded data removed]"
          },
          "metadata": {}
        }
      ]
    },
    {
      "cell_type": "markdown",
      "source": [
        "The DenseNet121 Convolutional Neural Network (CNN) architecture is implemented using TensorFlow to classify images from the CIFAR-10 dataset. The CIFAR-10 dataset, is loaded and normalized, with pixel values scaled to be between 0 and 1.\n",
        "The DenseNet121 architecture, known for its dense connectivity pattern, is utilized with pre-trained weights from the ImageNet dataset. In DenseNet, each layer is connected to every other layer in a feed-forward fashion, which leads to better feature propagation and reduces the number of parameters. The pre-trained DenseNet121 model is loaded with custom input shape matching the CIFAR-10 images and without the top classification layer, as it is specific to the ImageNet dataset.\n",
        "The base DenseNet121 model is then frozen, meaning its weights will not be updated during training, to leverage the learned features from ImageNet. Custom layers are added on top of the base model to adapt it to the CIFAR-10 classification task. These include a Global Average Pooling layer to reduce the spatial dimensions, a fully connected layer with 128 neurons and ReLU activation for further feature processing, a Dropout layer with a rate of 0.5 to reduce overfitting, and a final Dense layer with 10 neurons and softmax activation to output the class probabilities.\n",
        "The model is compiled with the Adam optimizer and sparse categorical crossentropy loss function, suitable for multi-class classification tasks. It is trained for 12 epochs, with the test set used as validation data to monitor the model's performance.\n",
        "After training, the model's accuracy is evaluated on the test set to determine its effectiveness in classifying unseen data. Finally, the training and validation accuracies are plotted against epochs to visualize the model's learning progress, typically showing an increase in accuracy as the number of epochs increases. This visualization helps in understanding the model's performance and can guide further tuning and experimentation.\n",
        "\n"
      ],
      "metadata": {
        "id": "x1ajO3_ZoI2u"
      }
    },
    {
      "cell_type": "markdown",
      "source": [
        "# Hyper parameter tuning for LeNet\n",
        "\n",
        "\n"
      ],
      "metadata": {
        "id": "SYY-i3KzWrhk"
      }
    },
    {
      "cell_type": "code",
      "source": [
        "### Hyper parameter tuning for LeNet\n",
        "\n",
        "import tensorflow as tf\n",
        "from tensorflow.keras import datasets, layers, models\n",
        "from tensorflow.keras.optimizers import Adam\n",
        "from sklearn.model_selection import ParameterGrid\n",
        "import numpy as np\n",
        "\n",
        "# Load and preprocess the CIFAR-10 dataset\n",
        "(train_images, train_labels), (test_images, test_labels) = datasets.cifar10.load_data()\n",
        "train_images, test_images = train_images / 255.0, test_images / 255.0\n",
        "\n",
        "\n",
        "# Defining input shape\n",
        "input_shape=(32, 32, 3)\n",
        "\n",
        "# Define the LeNet architecture\n",
        "def create_model(learning_rate):\n",
        "    model = models.Sequential()\n",
        "    model.add(layers.Conv2D(6, (5, 5), activation='relu', input_shape=input_shape))\n",
        "    model.add(layers.AveragePooling2D())\n",
        "    model.add(layers.Conv2D(16, (5, 5), activation='relu'))\n",
        "    model.add(layers.AveragePooling2D())\n",
        "    model.add(layers.Flatten())\n",
        "    model.add(layers.Dense(120, activation='relu'))\n",
        "    model.add(layers.Dense(84, activation='relu'))\n",
        "    model.add(layers.Dense(10, activation='softmax'))\n",
        "\n",
        "    model.compile(optimizer=Adam(learning_rate=learning_rate),\n",
        "                  loss='sparse_categorical_crossentropy',\n",
        "                  metrics=['accuracy'])\n",
        "    return model\n",
        "\n",
        "# Define the grid of hyperparameters to search\n",
        "param_grid = {\n",
        "    'learning_rate': [0.01],\n",
        "    'batch_size': [32]\n",
        "}\n",
        "\n",
        "# Perform grid search\n",
        "best_accuracy = 0\n",
        "best_params = {}\n",
        "for params in ParameterGrid(param_grid):\n",
        "    print(f\"Training with parameters: {params}\")\n",
        "    model = create_model(learning_rate=params['learning_rate'])\n",
        "    history = model.fit(train_images, train_labels,\n",
        "                        batch_size=params['batch_size'], epochs=12,\n",
        "                        validation_data=(test_images, test_labels),\n",
        "                        verbose=0)\n",
        "    accuracy = max(history.history['val_accuracy'])\n",
        "    if accuracy > best_accuracy:\n",
        "        best_accuracy = accuracy\n",
        "        best_params = params\n",
        "    print(f\"Validation accuracy: {accuracy}\")\n",
        "\n",
        "print(f\"Best parameters: {best_params}\")\n",
        "print(f\"Best validation accuracy: {best_accuracy}\")\n"
      ],
      "metadata": {
        "colab": {
          "base_uri": "https://localhost:8080/"
        },
        "id": "sX6yvhC6ypWG",
        "outputId": "56386821-1363-4d4a-e519-d7383c1ab36d"
      },
      "execution_count": null,
      "outputs": [
        {
          "output_type": "stream",
          "name": "stdout",
          "text": [
            "Training with parameters: {'batch_size': 32, 'learning_rate': 0.01}\n",
            "Validation accuracy: 0.10029999911785126\n",
            "Best parameters: {'batch_size': 32, 'learning_rate': 0.01}\n",
            "Best validation accuracy: 0.10029999911785126\n"
          ]
        }
      ]
    },
    {
      "cell_type": "markdown",
      "source": [
        "# Hyper parameter tuning for LeNet\n",
        "\n",
        "Grid search is a method used to find the best combination of hyperparameters for a model. It involves training and evaluating the model for every combination of hyperparameters specified in a grid. the grid contains one value for the learning rate (0.01) and one value for the batch size (32), and the grid search is limited to a single set of parameters.\n",
        "\n",
        "The learning rate is a hyperparameter that controls how much the model's weights are adjusted during training. A learning rate of 0.01 is used . The batch size specifies the number of samples that will be propagated through the network at once. A batch size of 32 is used here.\n",
        "\n",
        "The model is trained for each combination of hyperparameters, and the validation accuracy is tracked. The best combination of hyperparameters is determined based on the highest validation accuracy achieved during training. In this case, since there is only one set of hyperparameters, the best parameters will be the learning rate of 0.01 and batch size of 32, with the best validation accuracy being the highest accuracy achieved during training with these parameters.\n",
        "\n",
        "\n",
        "\n",
        "\n",
        "\n",
        "\n"
      ],
      "metadata": {
        "id": "M-C0W_oGpdHP"
      }
    },
    {
      "cell_type": "markdown",
      "source": [
        "# Hyper parameter tuning for AlexNet\n",
        "\n",
        "\n"
      ],
      "metadata": {
        "id": "nGsDdt01x9vx"
      }
    },
    {
      "cell_type": "code",
      "source": [
        "import tensorflow as tf\n",
        "from tensorflow.keras import datasets, layers, models\n",
        "from tensorflow.keras.optimizers import Adam\n",
        "from sklearn.model_selection import ParameterGrid\n",
        "import numpy as np\n",
        "\n",
        "# Load and preprocess the CIFAR-10 dataset\n",
        "(train_images, train_labels), (test_images, test_labels) = datasets.cifar10.load_data()\n",
        "\n",
        "train_images = train_images[:15000]\n",
        "test_images = test_images[:3000]\n",
        "train_labels = train_labels[:15000]\n",
        "test_labels = test_labels[:3000]\n",
        "\n",
        "train_images, test_images = train_images / 255.0, test_images / 255.0\n",
        "\n",
        "# Define the AlexNet-like model\n",
        "def create_model(learning_rate):\n",
        "    model = models.Sequential()\n",
        "    model.add(layers.Conv2D(96, (3, 3), strides=(1, 1), activation='relu', input_shape=(32, 32, 3)))\n",
        "    model.add(layers.MaxPooling2D((2, 2), strides=(2, 2)))\n",
        "    model.add(layers.Conv2D(256, (5, 5), padding='same', activation='relu'))\n",
        "    model.add(layers.MaxPooling2D((2, 2), strides=(2, 2)))\n",
        "    model.add(layers.Conv2D(384, (3, 3), padding='same', activation='relu'))\n",
        "    model.add(layers.Conv2D(384, (3, 3), padding='same', activation='relu'))\n",
        "    model.add(layers.Conv2D(256, (3, 3), padding='same', activation='relu'))\n",
        "    model.add(layers.MaxPooling2D((2, 2), strides=(2, 2)))\n",
        "    model.add(layers.Flatten())\n",
        "    model.add(layers.Dense(512, activation='relu'))\n",
        "    model.add(layers.Dropout(0.5))\n",
        "    model.add(layers.Dense(512, activation='relu'))\n",
        "    model.add(layers.Dropout(0.5))\n",
        "    model.add(layers.Dense(10, activation='softmax'))\n",
        "\n",
        "    model.compile(optimizer=Adam(learning_rate=learning_rate),\n",
        "                  loss='sparse_categorical_crossentropy',\n",
        "                  metrics=['accuracy'])\n",
        "    return model\n",
        "\n",
        "# Define the grid of hyperparameters to search\n",
        "param_grid = {\n",
        "    'learning_rate': [0.01],\n",
        "    'batch_size': [32]\n",
        "}\n",
        "\n",
        "# Perform grid search\n",
        "best_accuracy = 0\n",
        "best_params = {}\n",
        "for params in ParameterGrid(param_grid):\n",
        "    print(f\"Training with parameters: {params}\")\n",
        "    model = create_model(learning_rate=params['learning_rate'])\n",
        "    history = model.fit(train_images, train_labels,\n",
        "                        batch_size=params['batch_size'], epochs=12,\n",
        "                        validation_data=(test_images, test_labels),\n",
        "                        verbose=0)\n",
        "    accuracy = max(history.history['val_accuracy'])\n",
        "    if accuracy > best_accuracy:\n",
        "        best_accuracy = accuracy\n",
        "        best_params = params\n",
        "    print(f\"Validation accuracy: {accuracy}\")\n",
        "\n",
        "print(f\"Best parameters: {best_params}\")\n",
        "print(f\"Best validation accuracy: {best_accuracy}\")\n"
      ],
      "metadata": {
        "colab": {
          "base_uri": "https://localhost:8080/"
        },
        "id": "_FnDXuYcSi7m",
        "outputId": "cdfb890e-049a-451b-b3af-b3aaa039bbd4"
      },
      "execution_count": null,
      "outputs": [
        {
          "output_type": "stream",
          "name": "stdout",
          "text": [
            "Training with parameters: {'batch_size': 32, 'learning_rate': 0.01}\n",
            "Validation accuracy: 0.10599999874830246\n",
            "Best parameters: {'batch_size': 32, 'learning_rate': 0.01}\n",
            "Best validation accuracy: 0.10599999874830246\n"
          ]
        }
      ]
    },
    {
      "cell_type": "markdown",
      "source": [
        "\n",
        " Hyperparameter tuning for an AlexNet-like Convolutional Neural Network (CNN) model using grid search. Grid search is a method for finding the optimal combination of hyperparameters for a model. It involves training and evaluating the model for every combination of hyperparameters specified in a grid. In this code, the grid contains one value for the learning rate (0.01) and one value for the batch size (32).\n",
        "\n",
        "The learning rate is a hyperparameter that controls how much the model's weights are adjusted during training. A learning rate of 0.01 is used. The batch size specifies the number of samples that will be propagated through the network at once, with a value of 32 used here.\n",
        "\n",
        "The model is trained for each combination of hyperparameters, and the validation accuracy is tracked. The best combination of hyperparameters is determined based on the highest validation accuracy achieved during training. In this case, since there is only one set of hyperparameters, the best parameters will be the learning rate of 0.01 and batch size of 32, with the best validation accuracy being the highest accuracy achieved during training with these parameters.\n",
        "\n",
        "\n",
        "\n",
        "\n",
        "\n",
        "\n"
      ],
      "metadata": {
        "id": "uU0XYuw6_2Rg"
      }
    },
    {
      "cell_type": "markdown",
      "source": [
        "# Hyper parameter tuning for DenseNet"
      ],
      "metadata": {
        "id": "lNInu6r3y8nv"
      }
    },
    {
      "cell_type": "code",
      "source": [
        "import tensorflow as tf\n",
        "from tensorflow.keras import datasets, layers, models\n",
        "from tensorflow.keras.applications import DenseNet121\n",
        "from tensorflow.keras.optimizers import Adam\n",
        "from sklearn.model_selection import ParameterGrid\n",
        "import numpy as np\n",
        "\n",
        "# Load and preprocess the CIFAR-10 dataset\n",
        "(train_images, train_labels), (test_images, test_labels) = datasets.cifar10.load_data()\n",
        "\n",
        "train_images = train_images[:15000]\n",
        "test_images = test_images[:3000]\n",
        "train_labels = train_labels[:15000]\n",
        "test_labels = test_labels[:3000]\n",
        "\n",
        "train_images, test_images = train_images / 255.0, test_images / 255.0\n",
        "\n",
        "# Define the DenseNet model\n",
        "def create_model(learning_rate):\n",
        "    base_model = DenseNet121(weights='imagenet', include_top=False, input_shape=(32, 32, 3))\n",
        "    base_model.trainable = False\n",
        "    model = models.Sequential([\n",
        "        base_model,\n",
        "        layers.GlobalAveragePooling2D(),\n",
        "        layers.Dense(128, activation='relu'),\n",
        "        layers.Dropout(0.5),\n",
        "        layers.Dense(10, activation='softmax')\n",
        "    ])\n",
        "\n",
        "    model.compile(optimizer=Adam(learning_rate=learning_rate),\n",
        "                  loss='sparse_categorical_crossentropy',\n",
        "                  metrics=['accuracy'])\n",
        "    return model\n",
        "\n",
        "# Define the grid of hyperparameters to search\n",
        "param_grid = {\n",
        "    'learning_rate': [0.01],\n",
        "    'batch_size': [32]\n",
        "}\n",
        "\n",
        "# Perform grid search\n",
        "best_accuracy = 0\n",
        "best_params = {}\n",
        "for params in ParameterGrid(param_grid):\n",
        "    print(f\"Training with parameters: {params}\")\n",
        "    model = create_model(learning_rate=params['learning_rate'])\n",
        "    history = model.fit(train_images, train_labels,\n",
        "                        batch_size=params['batch_size'], epochs=12,\n",
        "                        validation_data=(test_images, test_labels),\n",
        "                        verbose=0)\n",
        "    accuracy = max(history.history['val_accuracy'])\n",
        "    if accuracy > best_accuracy:\n",
        "        best_accuracy = accuracy\n",
        "        best_params = params\n",
        "    print(f\"Validation accuracy: {accuracy}\")\n",
        "\n",
        "print(f\"Best parameters: {best_params}\")\n",
        "print(f\"Best validation accuracy: {best_accuracy}\")\n"
      ],
      "metadata": {
        "colab": {
          "base_uri": "https://localhost:8080/"
        },
        "id": "WATn-nKWT1JN",
        "outputId": "fb25ca08-3967-4c70-cb6b-3bdf2671619c"
      },
      "execution_count": null,
      "outputs": [
        {
          "output_type": "stream",
          "name": "stdout",
          "text": [
            "Training with parameters: {'batch_size': 32, 'learning_rate': 0.01}\n",
            "Validation accuracy: 0.4636666774749756\n",
            "Best parameters: {'batch_size': 32, 'learning_rate': 0.01}\n",
            "Best validation accuracy: 0.4636666774749756\n"
          ]
        }
      ]
    },
    {
      "cell_type": "markdown",
      "source": [
        "Grid search is employed to find the optimal combination of hyperparameters for the model. In this case, the hyperparameters being tuned are the learning rate and batch size. The grid consists of a single value for the learning rate (0.01) and a single value for the batch size (32). The model is trained for each combination of hyperparameters, and the validation accuracy is used to determine the best set of parameters."
      ],
      "metadata": {
        "id": "ChnxURxWAzqk"
      }
    },
    {
      "cell_type": "markdown",
      "source": [
        "# ResNet50"
      ],
      "metadata": {
        "id": "u-IZQf0NWBDW"
      }
    },
    {
      "cell_type": "code",
      "source": [
        "\n",
        "\n",
        "import tensorflow as tf\n",
        "from tensorflow.keras import datasets, layers, models\n",
        "from tensorflow.keras.applications import ResNet50\n",
        "import matplotlib.pyplot as plt\n",
        "\n",
        "# Load and preprocess the CIFAR-10 dataset\n",
        "(train_images, train_labels), (test_images, test_labels) = datasets.cifar10.load_data()\n",
        "\n",
        "train_images = train_images[:15000]\n",
        "test_images = test_images[:3000]\n",
        "train_labels = train_labels[:15000]\n",
        "test_labels = test_labels[:3000]\n",
        "\n",
        "# Normalize pixel values to be between 0 and 1\n",
        "train_images, test_images = train_images / 255.0, test_images / 255.0\n",
        "\n",
        "# Define the input shape\n",
        "input_shape = (32, 32, 3)\n",
        "\n",
        "# Load the pre-trained ResNet50 model with a custom input shape\n",
        "base_model = ResNet50(weights='imagenet', include_top=False, input_shape=input_shape)\n",
        "\n",
        "# Freeze the base model\n",
        "base_model.trainable = False\n",
        "\n",
        "# Add custom layers on top of the base model\n",
        "model = models.Sequential([\n",
        "    base_model,\n",
        "    layers.GlobalAveragePooling2D(),\n",
        "    layers.Dense(128, activation='relu'),\n",
        "    layers.Dropout(0.5),\n",
        "    layers.Dense(10, activation='softmax')\n",
        "])\n",
        "\n",
        "# Compile the model\n",
        "model.compile(optimizer='adam',\n",
        "              loss='sparse_categorical_crossentropy',\n",
        "              metrics=['accuracy'])\n",
        "\n",
        "# Train the model\n",
        "history = model.fit(train_images, train_labels, epochs=12,\n",
        "                    validation_data=(test_images, test_labels))\n",
        "\n",
        "# Evaluate the model\n",
        "test_loss, test_of_accuracy = model.evaluate(test_images, test_labels, verbose=2)\n",
        "print('\\nTest accuracy:', test_of_accuracy)\n",
        "\n"
      ],
      "metadata": {
        "colab": {
          "base_uri": "https://localhost:8080/"
        },
        "id": "I3FkIhpw8XWS",
        "outputId": "cee8db39-ab10-4f0b-aeaf-5fbac16b3eb2"
      },
      "execution_count": null,
      "outputs": [
        {
          "output_type": "stream",
          "name": "stdout",
          "text": [
            "Epoch 1/12\n",
            "469/469 [==============================] - 95s 193ms/step - loss: 2.3274 - accuracy: 0.1015 - val_loss: 2.3024 - val_accuracy: 0.1060\n",
            "Epoch 2/12\n",
            "469/469 [==============================] - 89s 191ms/step - loss: 2.3027 - accuracy: 0.1007 - val_loss: 2.3024 - val_accuracy: 0.1060\n",
            "Epoch 3/12\n",
            "469/469 [==============================] - 89s 190ms/step - loss: 2.3026 - accuracy: 0.1018 - val_loss: 2.3022 - val_accuracy: 0.1063\n",
            "Epoch 4/12\n",
            "469/469 [==============================] - 90s 192ms/step - loss: 2.3026 - accuracy: 0.1007 - val_loss: 2.3024 - val_accuracy: 0.1060\n",
            "Epoch 5/12\n",
            "469/469 [==============================] - 90s 192ms/step - loss: 2.3026 - accuracy: 0.1020 - val_loss: 2.3024 - val_accuracy: 0.1023\n",
            "Epoch 6/12\n",
            "469/469 [==============================] - 90s 192ms/step - loss: 2.3026 - accuracy: 0.1035 - val_loss: 2.3023 - val_accuracy: 0.1060\n",
            "Epoch 7/12\n",
            "469/469 [==============================] - 94s 200ms/step - loss: 2.3025 - accuracy: 0.1025 - val_loss: 2.3023 - val_accuracy: 0.1060\n",
            "Epoch 8/12\n",
            "469/469 [==============================] - 82s 176ms/step - loss: 2.3026 - accuracy: 0.0994 - val_loss: 2.3024 - val_accuracy: 0.1060\n",
            "Epoch 9/12\n",
            "469/469 [==============================] - 89s 190ms/step - loss: 2.3026 - accuracy: 0.1001 - val_loss: 2.3024 - val_accuracy: 0.1060\n",
            "Epoch 10/12\n",
            "469/469 [==============================] - 89s 189ms/step - loss: 2.3026 - accuracy: 0.1021 - val_loss: 2.3024 - val_accuracy: 0.1060\n",
            "Epoch 11/12\n",
            "469/469 [==============================] - 89s 189ms/step - loss: 2.3026 - accuracy: 0.1005 - val_loss: 2.3025 - val_accuracy: 0.1060\n",
            "Epoch 12/12\n",
            "469/469 [==============================] - 89s 189ms/step - loss: 2.3025 - accuracy: 0.1002 - val_loss: 2.3024 - val_accuracy: 0.1060\n",
            "94/94 - 13s - loss: 2.3024 - accuracy: 0.1060 - 13s/epoch - 135ms/step\n",
            "\n",
            "Test accuracy: 0.10599999874830246\n"
          ]
        }
      ]
    },
    {
      "cell_type": "markdown",
      "source": [
        "The ResNet50 model is loaded with pre-trained weights from the ImageNet dataset, and its top layers are excluded to allow for the addition of custom layers tailored to the CIFAR-10 classification task. The base model's layers are frozen to prevent their weights from being updated during training, preserving the learned features from ImageNet.\n",
        "\n",
        "Custom layers are added on top of the base model, including a global average pooling layer, a dense layer with 128 neurons and ReLU activation, a dropout layer with a 50% dropout rate to reduce overfitting, and a final dense layer with 10 neurons and softmax activation for classifying the images into 10 classes.\n",
        "\n",
        "The model is compiled using the Adam optimizer and sparse categorical crossentropy loss function, which are common choices for classification tasks. It is then trained for 12 epochs using the training dataset, with the test dataset used for validation. After training, the model's performance is evaluated on the test dataset, and the test accuracy is reported, indicating the model's ability to classify unseen images from the CIFAR-10 dataset correctly."
      ],
      "metadata": {
        "id": "CSVphcYUCQuN"
      }
    },
    {
      "cell_type": "markdown",
      "source": [
        "# Hyper parameter tuning for ResNet50"
      ],
      "metadata": {
        "id": "8WXWHsaFtZ8J"
      }
    },
    {
      "cell_type": "code",
      "source": [
        "import tensorflow as tf\n",
        "from tensorflow.keras import datasets, layers, models\n",
        "from tensorflow.keras.applications import ResNet50\n",
        "from tensorflow.keras.optimizers import Adam\n",
        "from sklearn.model_selection import ParameterGrid\n",
        "import numpy as np\n",
        "\n",
        "# Load and preprocess the CIFAR-10 dataset\n",
        "(train_images, train_labels), (test_images, test_labels) = datasets.cifar10.load_data()\n",
        "\n",
        "train_images = train_images[:15000]\n",
        "test_images = test_images[:3000]\n",
        "train_labels = train_labels[:15000]\n",
        "test_labels = test_labels[:3000]\n",
        "\n",
        "\n",
        "train_images, test_images = train_images / 255.0, test_images / 255.0\n",
        "\n",
        "# Define the ResNet50 model\n",
        "def create_model(learning_rate):\n",
        "    base_model = ResNet50(weights='imagenet', include_top=False, input_shape=(32, 32, 3))\n",
        "    base_model.trainable = False\n",
        "    model = models.Sequential([\n",
        "        base_model,\n",
        "        layers.GlobalAveragePooling2D(),\n",
        "        layers.Dense(128, activation='relu'),\n",
        "        layers.Dropout(0.5),\n",
        "        layers.Dense(10, activation='softmax')\n",
        "    ])\n",
        "\n",
        "    model.compile(optimizer=Adam(learning_rate=learning_rate),\n",
        "                  loss='sparse_categorical_crossentropy',\n",
        "                  metrics=['accuracy'])\n",
        "    return model\n",
        "\n",
        "# Define the grid of hyperparameters to search\n",
        "param_grid = {\n",
        "    'learning_rate': [0.01],\n",
        "    'batch_size': [32]\n",
        "}\n",
        "\n",
        "# Perform grid search\n",
        "best_accuracy = 0\n",
        "best_params = {}\n",
        "for params in ParameterGrid(param_grid):\n",
        "    print(f\"Training with parameters: {params}\")\n",
        "    model = create_model(learning_rate=params['learning_rate'])\n",
        "    history = model.fit(train_images, train_labels,\n",
        "                        batch_size=params['batch_size'], epochs=12,\n",
        "                        validation_data=(test_images, test_labels),\n",
        "                        verbose=0)\n",
        "    accuracy = max(history.history['val_accuracy'])\n",
        "    if accuracy > best_accuracy:\n",
        "        best_accuracy = accuracy\n",
        "        best_params = params\n",
        "    print(f\"Validation accuracy: {accuracy}\")\n",
        "\n",
        "print(f\"Best parameters: {best_params}\")\n",
        "print(f\"Best validation accuracy: {best_accuracy}\")\n"
      ],
      "metadata": {
        "colab": {
          "base_uri": "https://localhost:8080/"
        },
        "id": "GGkkCiO1tXHk",
        "outputId": "a5ab3230-22bb-4d20-d80a-fab77a5af5e1"
      },
      "execution_count": null,
      "outputs": [
        {
          "output_type": "stream",
          "name": "stdout",
          "text": [
            "Training with parameters: {'batch_size': 32, 'learning_rate': 0.01}\n",
            "Validation accuracy: 0.10599999874830246\n",
            "Best parameters: {'batch_size': 32, 'learning_rate': 0.01}\n",
            "Best validation accuracy: 0.10599999874830246\n"
          ]
        }
      ]
    },
    {
      "cell_type": "markdown",
      "source": [
        "Grid search is employed to find the optimal combination of hyperparameters for the model. It involves training and evaluating the model for each set of hyperparameters specified in a predefined grid. In this case, the grid contains only one value for the learning rate (0.01) and one value for the batch size (32)."
      ],
      "metadata": {
        "id": "z33YD2UuBOhk"
      }
    },
    {
      "cell_type": "markdown",
      "source": [
        "ChatGPT Link : https://chat.openai.com/share/996074d9-0d22-4631-97fb-2339de6fd2ce"
      ],
      "metadata": {
        "id": "1db5Sx4EDAXm"
      }
    }
  ],
  "metadata": {
    "colab": {
      "provenance": []
    },
    "kernelspec": {
      "display_name": "Python 3",
      "name": "python3"
    },
    "language_info": {
      "name": "python"
    }
  },
  "nbformat": 4,
  "nbformat_minor": 0
}